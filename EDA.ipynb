{
 "cells": [
  {
   "cell_type": "markdown",
   "metadata": {},
   "source": [
    "# Exploratory Data Analysis (EDA)"
   ]
  },
  {
   "cell_type": "markdown",
   "metadata": {},
   "source": [
    "It is an approach to analyzing and visualizing data sets to summarize their main characteristics, often with the help of statistical graphics and other data visualization methods. The promary goal of EDA is to uncover patterns, relationships, anomalies, and trends in the data, providing that can guide further analysis or decision-making process\n",
    "\n",
    "Types of Exploratory Data Analysis\n",
    "\n",
    "There are three main types of EDA :\n",
    "- Unvariable\n",
    "- Bivariate\n",
    "- Multivariate"
   ]
  },
  {
   "cell_type": "markdown",
   "metadata": {},
   "source": [
    "## Step 1 : Understand the Data\n",
    "- Familiarize yourself with the dataset, including the number of records, columns, and data types.\n",
    "- Indentify the target variable (if applicable) and understand its significance"
   ]
  },
  {
   "cell_type": "markdown",
   "metadata": {},
   "source": [
    "### Importing Libaries"
   ]
  },
  {
   "cell_type": "code",
   "execution_count": 36,
   "metadata": {},
   "outputs": [],
   "source": [
    "import pandas as pd\n"
   ]
  },
  {
   "cell_type": "code",
   "execution_count": 37,
   "metadata": {},
   "outputs": [],
   "source": [
    "data = pd.read_csv(\"product_data.csv\")"
   ]
  },
  {
   "cell_type": "markdown",
   "metadata": {},
   "source": [
    "### 1. Data Size"
   ]
  },
  {
   "cell_type": "markdown",
   "metadata": {},
   "source": [
    "Question: How big is the data?"
   ]
  },
  {
   "cell_type": "markdown",
   "metadata": {},
   "source": [
    "Approach: Chek the shape of the dataset."
   ]
  },
  {
   "cell_type": "code",
   "execution_count": 38,
   "metadata": {},
   "outputs": [
    {
     "data": {
      "text/plain": [
       "(60, 10)"
      ]
     },
     "execution_count": 38,
     "metadata": {},
     "output_type": "execute_result"
    }
   ],
   "source": [
    "data.shape"
   ]
  },
  {
   "cell_type": "markdown",
   "metadata": {},
   "source": [
    "### 2. Data Preview"
   ]
  },
  {
   "cell_type": "markdown",
   "metadata": {},
   "source": [
    "Question: What does the data look like?"
   ]
  },
  {
   "cell_type": "markdown",
   "metadata": {},
   "source": [
    "Approach: Look at the first few rows of the dataset."
   ]
  },
  {
   "cell_type": "code",
   "execution_count": 39,
   "metadata": {},
   "outputs": [
    {
     "data": {
      "text/html": [
       "<div>\n",
       "<style scoped>\n",
       "    .dataframe tbody tr th:only-of-type {\n",
       "        vertical-align: middle;\n",
       "    }\n",
       "\n",
       "    .dataframe tbody tr th {\n",
       "        vertical-align: top;\n",
       "    }\n",
       "\n",
       "    .dataframe thead th {\n",
       "        text-align: right;\n",
       "    }\n",
       "</style>\n",
       "<table border=\"1\" class=\"dataframe\">\n",
       "  <thead>\n",
       "    <tr style=\"text-align: right;\">\n",
       "      <th></th>\n",
       "      <th>ProductID</th>\n",
       "      <th>ProductName</th>\n",
       "      <th>Category</th>\n",
       "      <th>Price</th>\n",
       "      <th>CustomerRating</th>\n",
       "      <th>PromotionType</th>\n",
       "      <th>CustomerAge</th>\n",
       "      <th>ShippingTime</th>\n",
       "      <th>CustomerSatisfaction</th>\n",
       "      <th>ShippingDate</th>\n",
       "    </tr>\n",
       "  </thead>\n",
       "  <tbody>\n",
       "    <tr>\n",
       "      <th>0</th>\n",
       "      <td>1</td>\n",
       "      <td>Smartphone X</td>\n",
       "      <td>Electronics</td>\n",
       "      <td>500</td>\n",
       "      <td>4.2</td>\n",
       "      <td>Discount</td>\n",
       "      <td>Young</td>\n",
       "      <td>2</td>\n",
       "      <td>4</td>\n",
       "      <td>02/15/2022</td>\n",
       "    </tr>\n",
       "    <tr>\n",
       "      <th>1</th>\n",
       "      <td>2</td>\n",
       "      <td>Fashion Jacket</td>\n",
       "      <td>Clothing</td>\n",
       "      <td>80</td>\n",
       "      <td>4.5</td>\n",
       "      <td>Bundle Offer</td>\n",
       "      <td>Adult</td>\n",
       "      <td>3</td>\n",
       "      <td>5</td>\n",
       "      <td>08/20/2021</td>\n",
       "    </tr>\n",
       "    <tr>\n",
       "      <th>2</th>\n",
       "      <td>3</td>\n",
       "      <td>Kitchen Blender</td>\n",
       "      <td>Home &amp; Kitchen</td>\n",
       "      <td>120</td>\n",
       "      <td>3.8</td>\n",
       "      <td>NaN</td>\n",
       "      <td>Senior</td>\n",
       "      <td>4</td>\n",
       "      <td>3</td>\n",
       "      <td>05/10/2022</td>\n",
       "    </tr>\n",
       "    <tr>\n",
       "      <th>3</th>\n",
       "      <td>4</td>\n",
       "      <td>Running Shoes</td>\n",
       "      <td>Sports</td>\n",
       "      <td>60</td>\n",
       "      <td>4.0</td>\n",
       "      <td>Discount</td>\n",
       "      <td>Young</td>\n",
       "      <td>2</td>\n",
       "      <td>4</td>\n",
       "      <td>11/03/2022</td>\n",
       "    </tr>\n",
       "    <tr>\n",
       "      <th>4</th>\n",
       "      <td>5</td>\n",
       "      <td>LED TV</td>\n",
       "      <td>Electronics</td>\n",
       "      <td>700</td>\n",
       "      <td>4.3</td>\n",
       "      <td>NaN</td>\n",
       "      <td>Adult</td>\n",
       "      <td>3</td>\n",
       "      <td>4</td>\n",
       "      <td>06/27/2021</td>\n",
       "    </tr>\n",
       "    <tr>\n",
       "      <th>5</th>\n",
       "      <td>6</td>\n",
       "      <td>Makeup Kit</td>\n",
       "      <td>Beauty</td>\n",
       "      <td>45</td>\n",
       "      <td>4.1</td>\n",
       "      <td>Bundle Offer</td>\n",
       "      <td>Young</td>\n",
       "      <td>2</td>\n",
       "      <td>4</td>\n",
       "      <td>09/14/2021</td>\n",
       "    </tr>\n",
       "    <tr>\n",
       "      <th>6</th>\n",
       "      <td>7</td>\n",
       "      <td>Home Decor Items</td>\n",
       "      <td>Home &amp; Kitchen</td>\n",
       "      <td>25</td>\n",
       "      <td>3.5</td>\n",
       "      <td>NaN</td>\n",
       "      <td>Senior</td>\n",
       "      <td>4</td>\n",
       "      <td>2</td>\n",
       "      <td>07/08/2022</td>\n",
       "    </tr>\n",
       "    <tr>\n",
       "      <th>7</th>\n",
       "      <td>8</td>\n",
       "      <td>Smartwatch</td>\n",
       "      <td>Electronics</td>\n",
       "      <td>150</td>\n",
       "      <td>4.4</td>\n",
       "      <td>NaN</td>\n",
       "      <td>Young</td>\n",
       "      <td>2</td>\n",
       "      <td>5</td>\n",
       "      <td>03/22/2023</td>\n",
       "    </tr>\n",
       "    <tr>\n",
       "      <th>8</th>\n",
       "      <td>9</td>\n",
       "      <td>Sneakers</td>\n",
       "      <td>Sports</td>\n",
       "      <td>40</td>\n",
       "      <td>3.9</td>\n",
       "      <td>Discount</td>\n",
       "      <td>Adult</td>\n",
       "      <td>3</td>\n",
       "      <td>3</td>\n",
       "      <td>12/18/2021</td>\n",
       "    </tr>\n",
       "    <tr>\n",
       "      <th>9</th>\n",
       "      <td>10</td>\n",
       "      <td>Instant Pot</td>\n",
       "      <td>Home &amp; Kitchen</td>\n",
       "      <td>90</td>\n",
       "      <td>4.6</td>\n",
       "      <td>Bundle Offer</td>\n",
       "      <td>Senior</td>\n",
       "      <td>4</td>\n",
       "      <td>5</td>\n",
       "      <td>01/30/2022</td>\n",
       "    </tr>\n",
       "  </tbody>\n",
       "</table>\n",
       "</div>"
      ],
      "text/plain": [
       "   ProductID       ProductName        Category  Price  CustomerRating  \\\n",
       "0          1      Smartphone X     Electronics    500             4.2   \n",
       "1          2    Fashion Jacket        Clothing     80             4.5   \n",
       "2          3   Kitchen Blender  Home & Kitchen    120             3.8   \n",
       "3          4     Running Shoes          Sports     60             4.0   \n",
       "4          5            LED TV     Electronics    700             4.3   \n",
       "5          6        Makeup Kit          Beauty     45             4.1   \n",
       "6          7  Home Decor Items  Home & Kitchen     25             3.5   \n",
       "7          8        Smartwatch     Electronics    150             4.4   \n",
       "8          9          Sneakers          Sports     40             3.9   \n",
       "9         10       Instant Pot  Home & Kitchen     90             4.6   \n",
       "\n",
       "  PromotionType CustomerAge  ShippingTime  CustomerSatisfaction ShippingDate  \n",
       "0      Discount       Young             2                     4   02/15/2022  \n",
       "1  Bundle Offer       Adult             3                     5   08/20/2021  \n",
       "2           NaN      Senior             4                     3   05/10/2022  \n",
       "3      Discount       Young             2                     4   11/03/2022  \n",
       "4           NaN       Adult             3                     4   06/27/2021  \n",
       "5  Bundle Offer       Young             2                     4   09/14/2021  \n",
       "6           NaN      Senior             4                     2   07/08/2022  \n",
       "7           NaN       Young             2                     5   03/22/2023  \n",
       "8      Discount       Adult             3                     3   12/18/2021  \n",
       "9  Bundle Offer      Senior             4                     5   01/30/2022  "
      ]
     },
     "execution_count": 39,
     "metadata": {},
     "output_type": "execute_result"
    }
   ],
   "source": [
    "data.head(10)"
   ]
  },
  {
   "cell_type": "code",
   "execution_count": 40,
   "metadata": {},
   "outputs": [
    {
     "data": {
      "text/html": [
       "<div>\n",
       "<style scoped>\n",
       "    .dataframe tbody tr th:only-of-type {\n",
       "        vertical-align: middle;\n",
       "    }\n",
       "\n",
       "    .dataframe tbody tr th {\n",
       "        vertical-align: top;\n",
       "    }\n",
       "\n",
       "    .dataframe thead th {\n",
       "        text-align: right;\n",
       "    }\n",
       "</style>\n",
       "<table border=\"1\" class=\"dataframe\">\n",
       "  <thead>\n",
       "    <tr style=\"text-align: right;\">\n",
       "      <th></th>\n",
       "      <th>ProductID</th>\n",
       "      <th>ProductName</th>\n",
       "      <th>Category</th>\n",
       "      <th>Price</th>\n",
       "      <th>CustomerRating</th>\n",
       "      <th>PromotionType</th>\n",
       "      <th>CustomerAge</th>\n",
       "      <th>ShippingTime</th>\n",
       "      <th>CustomerSatisfaction</th>\n",
       "      <th>ShippingDate</th>\n",
       "    </tr>\n",
       "  </thead>\n",
       "  <tbody>\n",
       "    <tr>\n",
       "      <th>6</th>\n",
       "      <td>7</td>\n",
       "      <td>Home Decor Items</td>\n",
       "      <td>Home &amp; Kitchen</td>\n",
       "      <td>25</td>\n",
       "      <td>3.5</td>\n",
       "      <td>NaN</td>\n",
       "      <td>Senior</td>\n",
       "      <td>4</td>\n",
       "      <td>2</td>\n",
       "      <td>07/08/2022</td>\n",
       "    </tr>\n",
       "    <tr>\n",
       "      <th>24</th>\n",
       "      <td>25</td>\n",
       "      <td>Backpack</td>\n",
       "      <td>Accessories</td>\n",
       "      <td>30</td>\n",
       "      <td>3.7</td>\n",
       "      <td>NaN</td>\n",
       "      <td>Senior</td>\n",
       "      <td>4</td>\n",
       "      <td>2</td>\n",
       "      <td>07/11/2021</td>\n",
       "    </tr>\n",
       "    <tr>\n",
       "      <th>25</th>\n",
       "      <td>26</td>\n",
       "      <td>Smart Home Device</td>\n",
       "      <td>Electronics</td>\n",
       "      <td>90</td>\n",
       "      <td>4.5</td>\n",
       "      <td>Discount</td>\n",
       "      <td>Young</td>\n",
       "      <td>2</td>\n",
       "      <td>5</td>\n",
       "      <td>04/24/2022</td>\n",
       "    </tr>\n",
       "    <tr>\n",
       "      <th>47</th>\n",
       "      <td>218</td>\n",
       "      <td>Hiking Boots</td>\n",
       "      <td>Outdoor &amp; Recreation</td>\n",
       "      <td>60</td>\n",
       "      <td>4.4</td>\n",
       "      <td>NaN</td>\n",
       "      <td>Senior</td>\n",
       "      <td>4</td>\n",
       "      <td>4</td>\n",
       "      <td>07/16/2021</td>\n",
       "    </tr>\n",
       "    <tr>\n",
       "      <th>11</th>\n",
       "      <td>12</td>\n",
       "      <td>Yoga Mat</td>\n",
       "      <td>Sports</td>\n",
       "      <td>20</td>\n",
       "      <td>4.2</td>\n",
       "      <td>NaN</td>\n",
       "      <td>Adult</td>\n",
       "      <td>3</td>\n",
       "      <td>4</td>\n",
       "      <td>06/15/2021</td>\n",
       "    </tr>\n",
       "    <tr>\n",
       "      <th>42</th>\n",
       "      <td>213</td>\n",
       "      <td>Bike Helmet</td>\n",
       "      <td>Outdoor &amp; Recreation</td>\n",
       "      <td>45</td>\n",
       "      <td>3.7</td>\n",
       "      <td>Bundle Offer</td>\n",
       "      <td>Young</td>\n",
       "      <td>2</td>\n",
       "      <td>3</td>\n",
       "      <td>04/02/2022</td>\n",
       "    </tr>\n",
       "    <tr>\n",
       "      <th>4</th>\n",
       "      <td>5</td>\n",
       "      <td>LED TV</td>\n",
       "      <td>Electronics</td>\n",
       "      <td>700</td>\n",
       "      <td>4.3</td>\n",
       "      <td>NaN</td>\n",
       "      <td>Adult</td>\n",
       "      <td>3</td>\n",
       "      <td>4</td>\n",
       "      <td>06/27/2021</td>\n",
       "    </tr>\n",
       "    <tr>\n",
       "      <th>49</th>\n",
       "      <td>220</td>\n",
       "      <td>Smart Thermostat</td>\n",
       "      <td>Smart Home</td>\n",
       "      <td>90</td>\n",
       "      <td>4.1</td>\n",
       "      <td>Discount</td>\n",
       "      <td>Adult</td>\n",
       "      <td>3</td>\n",
       "      <td>4</td>\n",
       "      <td>12/30/2022</td>\n",
       "    </tr>\n",
       "    <tr>\n",
       "      <th>31</th>\n",
       "      <td>202</td>\n",
       "      <td>Comforter Set</td>\n",
       "      <td>Home &amp; Kitchen</td>\n",
       "      <td>80</td>\n",
       "      <td>4.5</td>\n",
       "      <td>Bundle Offer</td>\n",
       "      <td>Adult</td>\n",
       "      <td>3</td>\n",
       "      <td>5</td>\n",
       "      <td>08/20/2021</td>\n",
       "    </tr>\n",
       "    <tr>\n",
       "      <th>48</th>\n",
       "      <td>219</td>\n",
       "      <td>Lunch Box</td>\n",
       "      <td>Kitchen</td>\n",
       "      <td>15</td>\n",
       "      <td>3.9</td>\n",
       "      <td>NaN</td>\n",
       "      <td>Young</td>\n",
       "      <td>2</td>\n",
       "      <td>2</td>\n",
       "      <td>04/05/2022</td>\n",
       "    </tr>\n",
       "  </tbody>\n",
       "</table>\n",
       "</div>"
      ],
      "text/plain": [
       "    ProductID        ProductName              Category  Price  CustomerRating  \\\n",
       "6           7   Home Decor Items        Home & Kitchen     25             3.5   \n",
       "24         25           Backpack           Accessories     30             3.7   \n",
       "25         26  Smart Home Device           Electronics     90             4.5   \n",
       "47        218       Hiking Boots  Outdoor & Recreation     60             4.4   \n",
       "11         12           Yoga Mat                Sports     20             4.2   \n",
       "42        213        Bike Helmet  Outdoor & Recreation     45             3.7   \n",
       "4           5             LED TV           Electronics    700             4.3   \n",
       "49        220   Smart Thermostat            Smart Home     90             4.1   \n",
       "31        202      Comforter Set        Home & Kitchen     80             4.5   \n",
       "48        219          Lunch Box               Kitchen     15             3.9   \n",
       "\n",
       "   PromotionType CustomerAge  ShippingTime  CustomerSatisfaction ShippingDate  \n",
       "6            NaN      Senior             4                     2   07/08/2022  \n",
       "24           NaN      Senior             4                     2   07/11/2021  \n",
       "25      Discount       Young             2                     5   04/24/2022  \n",
       "47           NaN      Senior             4                     4   07/16/2021  \n",
       "11           NaN       Adult             3                     4   06/15/2021  \n",
       "42  Bundle Offer       Young             2                     3   04/02/2022  \n",
       "4            NaN       Adult             3                     4   06/27/2021  \n",
       "49      Discount       Adult             3                     4   12/30/2022  \n",
       "31  Bundle Offer       Adult             3                     5   08/20/2021  \n",
       "48           NaN       Young             2                     2   04/05/2022  "
      ]
     },
     "execution_count": 40,
     "metadata": {},
     "output_type": "execute_result"
    }
   ],
   "source": [
    "data.sample(10)"
   ]
  },
  {
   "cell_type": "markdown",
   "metadata": {},
   "source": [
    "### 3. Data Types"
   ]
  },
  {
   "cell_type": "markdown",
   "metadata": {},
   "source": [
    "Question: What type of information are stored in each column?"
   ]
  },
  {
   "cell_type": "markdown",
   "metadata": {},
   "source": [
    "Approach: Check the data types of each column using dtypes or info()."
   ]
  },
  {
   "cell_type": "code",
   "execution_count": 41,
   "metadata": {},
   "outputs": [
    {
     "name": "stdout",
     "output_type": "stream",
     "text": [
      "<class 'pandas.core.frame.DataFrame'>\n",
      "RangeIndex: 60 entries, 0 to 59\n",
      "Data columns (total 10 columns):\n",
      " #   Column                Non-Null Count  Dtype  \n",
      "---  ------                --------------  -----  \n",
      " 0   ProductID             60 non-null     int64  \n",
      " 1   ProductName           60 non-null     object \n",
      " 2   Category              60 non-null     object \n",
      " 3   Price                 60 non-null     int64  \n",
      " 4   CustomerRating        60 non-null     float64\n",
      " 5   PromotionType         25 non-null     object \n",
      " 6   CustomerAge           60 non-null     object \n",
      " 7   ShippingTime          60 non-null     int64  \n",
      " 8   CustomerSatisfaction  60 non-null     int64  \n",
      " 9   ShippingDate          60 non-null     object \n",
      "dtypes: float64(1), int64(4), object(5)\n",
      "memory usage: 4.8+ KB\n"
     ]
    }
   ],
   "source": [
    "data.info()"
   ]
  },
  {
   "cell_type": "code",
   "execution_count": 42,
   "metadata": {},
   "outputs": [
    {
     "data": {
      "text/plain": [
       "ProductID                 int64\n",
       "ProductName              object\n",
       "Category                 object\n",
       "Price                     int64\n",
       "CustomerRating          float64\n",
       "PromotionType            object\n",
       "CustomerAge              object\n",
       "ShippingTime              int64\n",
       "CustomerSatisfaction      int64\n",
       "ShippingDate             object\n",
       "dtype: object"
      ]
     },
     "execution_count": 42,
     "metadata": {},
     "output_type": "execute_result"
    }
   ],
   "source": [
    "data.dtypes"
   ]
  },
  {
   "cell_type": "markdown",
   "metadata": {},
   "source": [
    "### 4. Missing Values"
   ]
  },
  {
   "cell_type": "markdown",
   "metadata": {},
   "source": [
    "Question: Are there any null or missing values in the data?"
   ]
  },
  {
   "cell_type": "markdown",
   "metadata": {},
   "source": [
    "Approach: Check for the presence of missing values using isnull() or isna()"
   ]
  },
  {
   "cell_type": "code",
   "execution_count": 43,
   "metadata": {},
   "outputs": [
    {
     "data": {
      "text/plain": [
       "ProductID                0\n",
       "ProductName              0\n",
       "Category                 0\n",
       "Price                    0\n",
       "CustomerRating           0\n",
       "PromotionType           35\n",
       "CustomerAge              0\n",
       "ShippingTime             0\n",
       "CustomerSatisfaction     0\n",
       "ShippingDate             0\n",
       "dtype: int64"
      ]
     },
     "execution_count": 43,
     "metadata": {},
     "output_type": "execute_result"
    }
   ],
   "source": [
    "data.isna().sum()"
   ]
  },
  {
   "cell_type": "code",
   "execution_count": 44,
   "metadata": {},
   "outputs": [
    {
     "data": {
      "text/plain": [
       "ProductID                0.000000\n",
       "ProductName              0.000000\n",
       "Category                 0.000000\n",
       "Price                    0.000000\n",
       "CustomerRating           0.000000\n",
       "PromotionType           58.333333\n",
       "CustomerAge              0.000000\n",
       "ShippingTime             0.000000\n",
       "CustomerSatisfaction     0.000000\n",
       "ShippingDate             0.000000\n",
       "dtype: float64"
      ]
     },
     "execution_count": 44,
     "metadata": {},
     "output_type": "execute_result"
    }
   ],
   "source": [
    "data.isnull().mean()*100"
   ]
  },
  {
   "cell_type": "markdown",
   "metadata": {},
   "source": [
    "### 5. Satistical Overview:"
   ]
  },
  {
   "cell_type": "markdown",
   "metadata": {},
   "source": [
    "Question: How is the data distributed statistically?"
   ]
  },
  {
   "cell_type": "markdown",
   "metadata": {},
   "source": [
    "Approach: Obtai statistical measures using describe()."
   ]
  },
  {
   "cell_type": "code",
   "execution_count": 45,
   "metadata": {},
   "outputs": [
    {
     "data": {
      "text/html": [
       "<div>\n",
       "<style scoped>\n",
       "    .dataframe tbody tr th:only-of-type {\n",
       "        vertical-align: middle;\n",
       "    }\n",
       "\n",
       "    .dataframe tbody tr th {\n",
       "        vertical-align: top;\n",
       "    }\n",
       "\n",
       "    .dataframe thead th {\n",
       "        text-align: right;\n",
       "    }\n",
       "</style>\n",
       "<table border=\"1\" class=\"dataframe\">\n",
       "  <thead>\n",
       "    <tr style=\"text-align: right;\">\n",
       "      <th></th>\n",
       "      <th>count</th>\n",
       "      <th>mean</th>\n",
       "      <th>std</th>\n",
       "      <th>min</th>\n",
       "      <th>25%</th>\n",
       "      <th>50%</th>\n",
       "      <th>75%</th>\n",
       "      <th>max</th>\n",
       "    </tr>\n",
       "  </thead>\n",
       "  <tbody>\n",
       "    <tr>\n",
       "      <th>ProductID</th>\n",
       "      <td>60.0</td>\n",
       "      <td>115.500000</td>\n",
       "      <td>101.220936</td>\n",
       "      <td>1.0</td>\n",
       "      <td>15.75</td>\n",
       "      <td>115.5</td>\n",
       "      <td>215.25</td>\n",
       "      <td>230.0</td>\n",
       "    </tr>\n",
       "    <tr>\n",
       "      <th>Price</th>\n",
       "      <td>60.0</td>\n",
       "      <td>69.383333</td>\n",
       "      <td>110.925550</td>\n",
       "      <td>8.0</td>\n",
       "      <td>23.75</td>\n",
       "      <td>40.0</td>\n",
       "      <td>70.00</td>\n",
       "      <td>700.0</td>\n",
       "    </tr>\n",
       "    <tr>\n",
       "      <th>CustomerRating</th>\n",
       "      <td>60.0</td>\n",
       "      <td>4.106667</td>\n",
       "      <td>0.277926</td>\n",
       "      <td>3.5</td>\n",
       "      <td>3.90</td>\n",
       "      <td>4.1</td>\n",
       "      <td>4.30</td>\n",
       "      <td>4.6</td>\n",
       "    </tr>\n",
       "    <tr>\n",
       "      <th>ShippingTime</th>\n",
       "      <td>60.0</td>\n",
       "      <td>2.966667</td>\n",
       "      <td>0.822701</td>\n",
       "      <td>2.0</td>\n",
       "      <td>2.00</td>\n",
       "      <td>3.0</td>\n",
       "      <td>4.00</td>\n",
       "      <td>4.0</td>\n",
       "    </tr>\n",
       "    <tr>\n",
       "      <th>CustomerSatisfaction</th>\n",
       "      <td>60.0</td>\n",
       "      <td>3.600000</td>\n",
       "      <td>0.994902</td>\n",
       "      <td>2.0</td>\n",
       "      <td>3.00</td>\n",
       "      <td>4.0</td>\n",
       "      <td>4.00</td>\n",
       "      <td>5.0</td>\n",
       "    </tr>\n",
       "  </tbody>\n",
       "</table>\n",
       "</div>"
      ],
      "text/plain": [
       "                      count        mean         std  min    25%    50%  \\\n",
       "ProductID              60.0  115.500000  101.220936  1.0  15.75  115.5   \n",
       "Price                  60.0   69.383333  110.925550  8.0  23.75   40.0   \n",
       "CustomerRating         60.0    4.106667    0.277926  3.5   3.90    4.1   \n",
       "ShippingTime           60.0    2.966667    0.822701  2.0   2.00    3.0   \n",
       "CustomerSatisfaction   60.0    3.600000    0.994902  2.0   3.00    4.0   \n",
       "\n",
       "                         75%    max  \n",
       "ProductID             215.25  230.0  \n",
       "Price                  70.00  700.0  \n",
       "CustomerRating          4.30    4.6  \n",
       "ShippingTime            4.00    4.0  \n",
       "CustomerSatisfaction    4.00    5.0  "
      ]
     },
     "execution_count": 45,
     "metadata": {},
     "output_type": "execute_result"
    }
   ],
   "source": [
    "data.describe().transpose()"
   ]
  },
  {
   "cell_type": "code",
   "execution_count": 46,
   "metadata": {},
   "outputs": [
    {
     "data": {
      "text/plain": [
       "-0.28629649843102617"
      ]
     },
     "execution_count": 46,
     "metadata": {},
     "output_type": "execute_result"
    }
   ],
   "source": [
    "data[\"CustomerSatisfaction\"].skew()"
   ]
  },
  {
   "cell_type": "markdown",
   "metadata": {},
   "source": [
    "### 6. Duplicate Data:"
   ]
  },
  {
   "cell_type": "markdown",
   "metadata": {},
   "source": [
    "Question: Are there duplicat values?"
   ]
  },
  {
   "cell_type": "markdown",
   "metadata": {},
   "source": [
    "Approach: Identify and remove duplicates using duplicated()."
   ]
  },
  {
   "cell_type": "code",
   "execution_count": 47,
   "metadata": {},
   "outputs": [
    {
     "name": "stdout",
     "output_type": "stream",
     "text": [
      "Total duplicate values are ' 0 '.\n"
     ]
    }
   ],
   "source": [
    "print(\"Total duplicate values are '\", data.duplicated().sum(), \"'.\")"
   ]
  },
  {
   "cell_type": "markdown",
   "metadata": {},
   "source": [
    "### 7. Correlation Analysis:"
   ]
  },
  {
   "cell_type": "markdown",
   "metadata": {},
   "source": [
    "Question: How are different columns related to each other?"
   ]
  },
  {
   "cell_type": "markdown",
   "metadata": {},
   "source": [
    "Approach: Examine the correlation matrix and visualize it if needed."
   ]
  },
  {
   "cell_type": "code",
   "execution_count": 48,
   "metadata": {},
   "outputs": [],
   "source": [
    "## data.corr() -> cannot"
   ]
  },
  {
   "cell_type": "markdown",
   "metadata": {},
   "source": [
    "### 8. Exploring Diversity:"
   ]
  },
  {
   "cell_type": "markdown",
   "metadata": {},
   "source": [
    "Question: How many unique values are there in a specific column"
   ]
  },
  {
   "cell_type": "markdown",
   "metadata": {},
   "source": [
    "Approach: Use the nunique() method to find the number of unique values."
   ]
  },
  {
   "cell_type": "code",
   "execution_count": 49,
   "metadata": {},
   "outputs": [
    {
     "data": {
      "text/plain": [
       "60"
      ]
     },
     "execution_count": 49,
     "metadata": {},
     "output_type": "execute_result"
    }
   ],
   "source": [
    "data[\"ProductName\"].nunique()"
   ]
  },
  {
   "cell_type": "markdown",
   "metadata": {},
   "source": [
    "## Step 2: Univariate Graphical Analysis"
   ]
  },
  {
   "cell_type": "markdown",
   "metadata": {},
   "source": []
  },
  {
   "cell_type": "markdown",
   "metadata": {},
   "source": [
    "- It refers to the examination and exploration of a single variable in a dataset\n",
    "- It envolves generating summary statistics, visualizations (e.g. histograms, box plots), and understanding the distribution and characteristics of that specific variable."
   ]
  },
  {
   "cell_type": "markdown",
   "metadata": {},
   "source": [
    "### 1. Categorical Data"
   ]
  },
  {
   "cell_type": "code",
   "execution_count": 50,
   "metadata": {},
   "outputs": [],
   "source": [
    "import seaborn as sns\n",
    "import matplotlib.pyplot as plt\n",
    "%matplotlib inline"
   ]
  },
  {
   "cell_type": "markdown",
   "metadata": {},
   "source": [
    "### a. Count plot"
   ]
  },
  {
   "cell_type": "markdown",
   "metadata": {},
   "source": [
    "Purpose: Count occurances of each category in a categorical variable."
   ]
  },
  {
   "cell_type": "markdown",
   "metadata": {},
   "source": [
    "Usage: sns.countplot(x= 'categori_column', data=data)"
   ]
  },
  {
   "cell_type": "code",
   "execution_count": 51,
   "metadata": {},
   "outputs": [
    {
     "data": {
      "text/plain": [
       "12"
      ]
     },
     "execution_count": 51,
     "metadata": {},
     "output_type": "execute_result"
    }
   ],
   "source": [
    "data[\"Category\"].nunique()"
   ]
  },
  {
   "cell_type": "code",
   "execution_count": 52,
   "metadata": {},
   "outputs": [
    {
     "data": {
      "image/png": "[encoded data removed]",
      "text/plain": [
       "<Figure size 1000x600 with 1 Axes>"
      ]
     },
     "metadata": {},
     "output_type": "display_data"
    }
   ],
   "source": [
    "# Using a countplot to understand the \"Category\"\n",
    "plt.figure(figsize=(10, 6))\n",
    "sns.countplot(data=data, x=\"Category\", order=data[\"Category\"].value_counts().index)\n",
    "plt.xticks(rotation=45)\n",
    "plt.title(\"Countplot of Categories\")\n",
    "plt.show()"
   ]
  },
  {
   "cell_type": "code",
   "execution_count": 53,
   "metadata": {},
   "outputs": [
    {
     "data": {
      "image/png": "[encoded data removed]",
      "text/plain": [
       "<Figure size 1000x600 with 1 Axes>"
      ]
     },
     "metadata": {},
     "output_type": "display_data"
    }
   ],
   "source": [
    "# Using a count plot to understand the \"PromotionType\"\n",
    "plt.figure(figsize=(10, 6))\n",
    "sns.countplot(data=data, x=\"PromotionType\", order=data[\"PromotionType\"].value_counts().index)\n",
    "plt.title(\"Countplot of Promotion Type\")\n",
    "plt.show()"
   ]
  },
  {
   "cell_type": "markdown",
   "metadata": {},
   "source": [
    "### b. PieChart"
   ]
  },
  {
   "cell_type": "markdown",
   "metadata": {},
   "source": [
    "Purpose: Display the proportion of each category in categorical variable."
   ]
  },
  {
   "cell_type": "markdown",
   "metadata": {},
   "source": [
    "Usage: plt.pie(data['category_column'].value_counts(), labels=data['category_column'].value_counts().index)"
   ]
  },
  {
   "cell_type": "code",
   "execution_count": 54,
   "metadata": {},
   "outputs": [
    {
     "data": {
      "image/png": "[encoded data removed]",
      "text/plain": [
       "<Figure size 640x480 with 1 Axes>"
      ]
     },
     "metadata": {},
     "output_type": "display_data"
    }
   ],
   "source": [
    "# Using a piechart to understand the \"CustomerAge\"\n",
    "data[\"CustomerAge\"].value_counts().plot(kind=\"pie\", autopct = \"%.2f\")\n",
    "plt.show()"
   ]
  },
  {
   "cell_type": "markdown",
   "metadata": {},
   "source": [
    "Note: A piechart provide a visual reprsentation of how individual categories contibute to the total, to visualize the percentage of the data belonging to each category."
   ]
  },
  {
   "cell_type": "markdown",
   "metadata": {},
   "source": [
    "###  2. Numerical Data"
   ]
  },
  {
   "cell_type": "markdown",
   "metadata": {},
   "source": [
    "### a. Histogram"
   ]
  },
  {
   "cell_type": "markdown",
   "metadata": {},
   "source": [
    "Histogram, a bar plot in which each bar represents the frequency (count) or proportion (count/total count) of cases for a range of values."
   ]
  },
  {
   "cell_type": "markdown",
   "metadata": {},
   "source": [
    "Purpose: Display distribution of a single numerical variable."
   ]
  },
  {
   "cell_type": "markdown",
   "metadata": {},
   "source": [
    "Usage: plt.hist(data[\"CustomerRating])"
   ]
  },
  {
   "cell_type": "code",
   "execution_count": 55,
   "metadata": {},
   "outputs": [
    {
     "data": {
      "text/plain": [
       "(array([ 2.,  4.,  6.,  5., 10.,  6.,  9.,  5.,  4.,  9.]),\n",
       " array([3.5 , 3.61, 3.72, 3.83, 3.94, 4.05, 4.16, 4.27, 4.38, 4.49, 4.6 ]),\n",
       " <BarContainer object of 10 artists>)"
      ]
     },
     "execution_count": 55,
     "metadata": {},
     "output_type": "execute_result"
    },
    {
     "data": {
      "image/png": "[encoded data removed]",
      "text/plain": [
       "<Figure size 640x480 with 1 Axes>"
      ]
     },
     "metadata": {},
     "output_type": "display_data"
    }
   ],
   "source": [
    "# Using a histplot to understand the \"CustomerRating\"\n",
    "plt.hist(data[\"CustomerRating\"])"
   ]
  },
  {
   "cell_type": "markdown",
   "metadata": {},
   "source": [
    "Note: Understand the overall shape of the data distribution, including any skewness, peaks, or gaps in the values."
   ]
  },
  {
   "cell_type": "markdown",
   "metadata": {},
   "source": [
    "### b. Displot"
   ]
  },
  {
   "cell_type": "markdown",
   "metadata": {},
   "source": [
    "Purpose: Visualize distribution of a numerical column"
   ]
  },
  {
   "cell_type": "markdown",
   "metadata": {},
   "source": [
    "Usage: sns.distplot(data['NumericalColumn'])"
   ]
  },
  {
   "cell_type": "code",
   "execution_count": 56,
   "metadata": {},
   "outputs": [
    {
     "data": {
      "text/plain": [
       "<seaborn.axisgrid.FacetGrid at 0x16bdf3bf0>"
      ]
     },
     "execution_count": 56,
     "metadata": {},
     "output_type": "execute_result"
    },
    {
     "data": {
      "image/png": "[encoded data removed]",
      "text/plain": [
       "<Figure size 500x500 with 1 Axes>"
      ]
     },
     "metadata": {},
     "output_type": "display_data"
    }
   ],
   "source": [
    "# Using a displot to understand to understand the \"ShippingTime\"\n",
    "sns.displot(data[\"ShippingTime\"])"
   ]
  },
  {
   "cell_type": "markdown",
   "metadata": {},
   "source": [
    "Note: It is beneficial for understanding the shape of the distribution/density, idntifying outliers, and assesing the overall pattern of numerical data."
   ]
  },
  {
   "cell_type": "markdown",
   "metadata": {},
   "source": [
    "### c. Box Plot (Box-and-Whisker Plots)"
   ]
  },
  {
   "cell_type": "markdown",
   "metadata": {},
   "source": [
    "Box plots, which graphically depict the five-number summary of minimum, first quartile, median, third quartile, and maximum."
   ]
  },
  {
   "cell_type": "markdown",
   "metadata": {},
   "source": [
    "Purpose: Show summary statistics and identify outliers in numerical data."
   ]
  },
  {
   "cell_type": "markdown",
   "metadata": {},
   "source": [
    "Usage: sns.boxplot(x='column', data=data)"
   ]
  },
  {
   "cell_type": "code",
   "execution_count": 57,
   "metadata": {},
   "outputs": [
    {
     "data": {
      "text/plain": [
       "<Axes: ylabel='CustomerRating'>"
      ]
     },
     "execution_count": 57,
     "metadata": {},
     "output_type": "execute_result"
    },
    {
     "data": {
      "image/png": "[encoded data removed]",
      "text/plain": [
       "<Figure size 640x480 with 1 Axes>"
      ]
     },
     "metadata": {},
     "output_type": "display_data"
    }
   ],
   "source": [
    "# Using a boxplot to understand the \"CustomerRating\"\n",
    "sns.boxplot(data[\"CustomerRating\"])"
   ]
  },
  {
   "cell_type": "markdown",
   "metadata": {},
   "source": [
    "Note: Visualize the distribution and central tendency of numerical data across different categories. To identify variations, outlier spread of numerical values within distinct categorical groups."
   ]
  },
  {
   "cell_type": "markdown",
   "metadata": {},
   "source": [
    "### Step 3: Bi/Multi-variate Graphical Analysis"
   ]
  },
  {
   "cell_type": "markdown",
   "metadata": {},
   "source": [
    "Bivariate graphical analysis involves examining the raltionship between two variables through visual representation. Multivariate Analysis is an extension of bivariate analysis which means it involves multiple variables at the same time to find correlation between them."
   ]
  },
  {
   "cell_type": "markdown",
   "metadata": {},
   "source": [
    "The main three types we will see here are:\n",
    "- Numerical v/s Numerical\n",
    "- Categorical v/s Numerical\n",
    "- Categorical v/s Caterogical data"
   ]
  },
  {
   "cell_type": "code",
   "execution_count": 58,
   "metadata": {},
   "outputs": [
    {
     "data": {
      "text/plain": [
       "Index(['total_bill', 'tip', 'sex', 'smoker', 'day', 'time', 'size'], dtype='object')"
      ]
     },
     "execution_count": 58,
     "metadata": {},
     "output_type": "execute_result"
    }
   ],
   "source": [
    "tips_data = sns.load_dataset('tips')\n",
    "tips_data.columns"
   ]
  },
  {
   "cell_type": "code",
   "execution_count": 59,
   "metadata": {},
   "outputs": [
    {
     "data": {
      "text/html": [
       "<div>\n",
       "<style scoped>\n",
       "    .dataframe tbody tr th:only-of-type {\n",
       "        vertical-align: middle;\n",
       "    }\n",
       "\n",
       "    .dataframe tbody tr th {\n",
       "        vertical-align: top;\n",
       "    }\n",
       "\n",
       "    .dataframe thead th {\n",
       "        text-align: right;\n",
       "    }\n",
       "</style>\n",
       "<table border=\"1\" class=\"dataframe\">\n",
       "  <thead>\n",
       "    <tr style=\"text-align: right;\">\n",
       "      <th></th>\n",
       "      <th>total_bill</th>\n",
       "      <th>tip</th>\n",
       "      <th>sex</th>\n",
       "      <th>smoker</th>\n",
       "      <th>day</th>\n",
       "      <th>time</th>\n",
       "      <th>size</th>\n",
       "    </tr>\n",
       "  </thead>\n",
       "  <tbody>\n",
       "    <tr>\n",
       "      <th>0</th>\n",
       "      <td>16.99</td>\n",
       "      <td>1.01</td>\n",
       "      <td>Female</td>\n",
       "      <td>No</td>\n",
       "      <td>Sun</td>\n",
       "      <td>Dinner</td>\n",
       "      <td>2</td>\n",
       "    </tr>\n",
       "    <tr>\n",
       "      <th>1</th>\n",
       "      <td>10.34</td>\n",
       "      <td>1.66</td>\n",
       "      <td>Male</td>\n",
       "      <td>No</td>\n",
       "      <td>Sun</td>\n",
       "      <td>Dinner</td>\n",
       "      <td>3</td>\n",
       "    </tr>\n",
       "    <tr>\n",
       "      <th>2</th>\n",
       "      <td>21.01</td>\n",
       "      <td>3.50</td>\n",
       "      <td>Male</td>\n",
       "      <td>No</td>\n",
       "      <td>Sun</td>\n",
       "      <td>Dinner</td>\n",
       "      <td>3</td>\n",
       "    </tr>\n",
       "    <tr>\n",
       "      <th>3</th>\n",
       "      <td>23.68</td>\n",
       "      <td>3.31</td>\n",
       "      <td>Male</td>\n",
       "      <td>No</td>\n",
       "      <td>Sun</td>\n",
       "      <td>Dinner</td>\n",
       "      <td>2</td>\n",
       "    </tr>\n",
       "    <tr>\n",
       "      <th>4</th>\n",
       "      <td>24.59</td>\n",
       "      <td>3.61</td>\n",
       "      <td>Female</td>\n",
       "      <td>No</td>\n",
       "      <td>Sun</td>\n",
       "      <td>Dinner</td>\n",
       "      <td>4</td>\n",
       "    </tr>\n",
       "    <tr>\n",
       "      <th>...</th>\n",
       "      <td>...</td>\n",
       "      <td>...</td>\n",
       "      <td>...</td>\n",
       "      <td>...</td>\n",
       "      <td>...</td>\n",
       "      <td>...</td>\n",
       "      <td>...</td>\n",
       "    </tr>\n",
       "    <tr>\n",
       "      <th>239</th>\n",
       "      <td>29.03</td>\n",
       "      <td>5.92</td>\n",
       "      <td>Male</td>\n",
       "      <td>No</td>\n",
       "      <td>Sat</td>\n",
       "      <td>Dinner</td>\n",
       "      <td>3</td>\n",
       "    </tr>\n",
       "    <tr>\n",
       "      <th>240</th>\n",
       "      <td>27.18</td>\n",
       "      <td>2.00</td>\n",
       "      <td>Female</td>\n",
       "      <td>Yes</td>\n",
       "      <td>Sat</td>\n",
       "      <td>Dinner</td>\n",
       "      <td>2</td>\n",
       "    </tr>\n",
       "    <tr>\n",
       "      <th>241</th>\n",
       "      <td>22.67</td>\n",
       "      <td>2.00</td>\n",
       "      <td>Male</td>\n",
       "      <td>Yes</td>\n",
       "      <td>Sat</td>\n",
       "      <td>Dinner</td>\n",
       "      <td>2</td>\n",
       "    </tr>\n",
       "    <tr>\n",
       "      <th>242</th>\n",
       "      <td>17.82</td>\n",
       "      <td>1.75</td>\n",
       "      <td>Male</td>\n",
       "      <td>No</td>\n",
       "      <td>Sat</td>\n",
       "      <td>Dinner</td>\n",
       "      <td>2</td>\n",
       "    </tr>\n",
       "    <tr>\n",
       "      <th>243</th>\n",
       "      <td>18.78</td>\n",
       "      <td>3.00</td>\n",
       "      <td>Female</td>\n",
       "      <td>No</td>\n",
       "      <td>Thur</td>\n",
       "      <td>Dinner</td>\n",
       "      <td>2</td>\n",
       "    </tr>\n",
       "  </tbody>\n",
       "</table>\n",
       "<p>244 rows × 7 columns</p>\n",
       "</div>"
      ],
      "text/plain": [
       "     total_bill   tip     sex smoker   day    time  size\n",
       "0         16.99  1.01  Female     No   Sun  Dinner     2\n",
       "1         10.34  1.66    Male     No   Sun  Dinner     3\n",
       "2         21.01  3.50    Male     No   Sun  Dinner     3\n",
       "3         23.68  3.31    Male     No   Sun  Dinner     2\n",
       "4         24.59  3.61  Female     No   Sun  Dinner     4\n",
       "..          ...   ...     ...    ...   ...     ...   ...\n",
       "239       29.03  5.92    Male     No   Sat  Dinner     3\n",
       "240       27.18  2.00  Female    Yes   Sat  Dinner     2\n",
       "241       22.67  2.00    Male    Yes   Sat  Dinner     2\n",
       "242       17.82  1.75    Male     No   Sat  Dinner     2\n",
       "243       18.78  3.00  Female     No  Thur  Dinner     2\n",
       "\n",
       "[244 rows x 7 columns]"
      ]
     },
     "execution_count": 59,
     "metadata": {},
     "output_type": "execute_result"
    }
   ],
   "source": [
    "tips_data"
   ]
  },
  {
   "cell_type": "markdown",
   "metadata": {},
   "source": [
    "### I. Visualizing (Numerical - Numerical) Columns"
   ]
  },
  {
   "cell_type": "markdown",
   "metadata": {},
   "source": [
    "### 1. Scatterplot"
   ]
  },
  {
   "cell_type": "markdown",
   "metadata": {},
   "source": [
    "Purpose: Explore relationship between two numerical variables."
   ]
  },
  {
   "cell_type": "markdown",
   "metadata": {},
   "source": [
    "Usage: plt.scatter(data['x_column'], data['y_column'])"
   ]
  },
  {
   "cell_type": "code",
   "execution_count": 60,
   "metadata": {},
   "outputs": [],
   "source": [
    "# Using a scatterplot to check the correlation between \"total_bill, \"tip\", \"sex, \"smoker and \"sex\"\n",
    "#sns.scatterplot(tips_data['total_bill'],tips_data['tip'],hue=tips_data['sex'],style=tips_data['smoker'],size=tips_data['size'])\n",
    "#xlabel='total_bill', \n",
    "#ylabel='tip'"
   ]
  },
  {
   "cell_type": "markdown",
   "metadata": {},
   "source": [
    "Note: Identify patterns, trends, or correlations between the plotted points, revealing insights into the association between the variables."
   ]
  },
  {
   "cell_type": "markdown",
   "metadata": {},
   "source": [
    "### 2. Lineplot"
   ]
  },
  {
   "cell_type": "markdown",
   "metadata": {},
   "source": [
    "Purpose: Display relationship between two continuous variables."
   ]
  },
  {
   "cell_type": "markdown",
   "metadata": {},
   "source": [
    "Usage: sns.lineplot(x='Variable1', y='Variable2', data=data)"
   ]
  },
  {
   "cell_type": "code",
   "execution_count": 61,
   "metadata": {},
   "outputs": [],
   "source": [
    "# Using a lineplot to check the relation between \"total_bill\" and \"size\"\n",
    "#sns.lineplot(tips_data['total_bill'],tips_data['size'])"
   ]
  },
  {
   "cell_type": "markdown",
   "metadata": {},
   "source": [
    "### II. Visualizing (Numerical - Categorical) Columns\n"
   ]
  },
  {
   "cell_type": "markdown",
   "metadata": {},
   "source": [
    "### 1. Bar Plot"
   ]
  },
  {
   "cell_type": "markdown",
   "metadata": {},
   "source": [
    "Purpose: Visualize the distribution of categorical variables."
   ]
  },
  {
   "cell_type": "markdown",
   "metadata": {},
   "source": [
    "Usage: plt.bar(data['category_column'].value_counts().index, data['category_column'].value_counts())"
   ]
  },
  {
   "cell_type": "code",
   "execution_count": 62,
   "metadata": {},
   "outputs": [
    {
     "data": {
      "text/plain": [
       "Index(['ProductID', 'ProductName', 'Category', 'Price', 'CustomerRating',\n",
       "       'PromotionType', 'CustomerAge', 'ShippingTime', 'CustomerSatisfaction',\n",
       "       'ShippingDate'],\n",
       "      dtype='object')"
      ]
     },
     "execution_count": 62,
     "metadata": {},
     "output_type": "execute_result"
    }
   ],
   "source": [
    "data.columns"
   ]
  },
  {
   "cell_type": "code",
   "execution_count": 63,
   "metadata": {},
   "outputs": [],
   "source": [
    "# Using a barplot to check the correlation between \"CustomerRating\" and \"CustomerSatisfaction\"\n",
    "#sns.barplot(data[\"CustomerRating\"], data[\"CustomerSatisfaction\"])"
   ]
  },
  {
   "cell_type": "markdown",
   "metadata": {},
   "source": [
    "Note: Compare and highlight the differences in values between different categories using bars of varying lengths"
   ]
  },
  {
   "cell_type": "markdown",
   "metadata": {},
   "source": [
    "### 2. Box Plot Grouped by Category:"
   ]
  },
  {
   "cell_type": "markdown",
   "metadata": {},
   "source": [
    "Purpose: Compare the distribution of a numerical variable across different categories"
   ]
  },
  {
   "cell_type": "markdown",
   "metadata": {},
   "source": [
    "Usage: sns.boxplot(x='category_column', y='numerical_column', data=data)"
   ]
  },
  {
   "cell_type": "code",
   "execution_count": 64,
   "metadata": {},
   "outputs": [],
   "source": [
    "# Using a boxplot to check the corelation between \"CustomerRating\" and \"ShippingTime                                                                               \"\n",
    "#sns.boxplot(data[\"CustomerRating\"], data[\"ShippingTime\"])"
   ]
  },
  {
   "cell_type": "markdown",
   "metadata": {},
   "source": [
    "Note: Identify variations, outliers, and the overall spread of numerical values within distinct categorical groups."
   ]
  },
  {
   "cell_type": "markdown",
   "metadata": {},
   "source": [
    "### 3. Distplot"
   ]
  },
  {
   "cell_type": "markdown",
   "metadata": {},
   "source": [
    "Purpose: Compare distributions of numerical variables across categories.\n"
   ]
  },
  {
   "cell_type": "markdown",
   "metadata": {},
   "source": [
    "Usage: sns.distplot(data['NumericalColumn'], hue=data['CategoricalColumn'], kde=False)"
   ]
  },
  {
   "cell_type": "code",
   "execution_count": 65,
   "metadata": {},
   "outputs": [
    {
     "name": "stderr",
     "output_type": "stream",
     "text": [
      "/var/folders/9z/nlzby8r50nz49vxsbtll4krc0000gn/T/ipykernel_14065/3612700659.py:3: UserWarning: \n",
      "\n",
      "`distplot` is a deprecated function and will be removed in seaborn v0.14.0.\n",
      "\n",
      "Please adapt your code to use either `displot` (a figure-level function with\n",
      "similar flexibility) or `kdeplot` (an axes-level function for kernel density plots).\n",
      "\n",
      "For a guide to updating your code to use the new functions, please see\n",
      "https://gist.github.com/mwaskom/de44147ed2974457ad6372750bbe5751\n",
      "\n",
      "  sns.distplot(data[data[\"ShippingTime\"] == 2][\"CustomerRating\"],hist=False, label=\"ShippingTime 2 days\")\n",
      "/var/folders/9z/nlzby8r50nz49vxsbtll4krc0000gn/T/ipykernel_14065/3612700659.py:4: UserWarning: \n",
      "\n",
      "`distplot` is a deprecated function and will be removed in seaborn v0.14.0.\n",
      "\n",
      "Please adapt your code to use either `displot` (a figure-level function with\n",
      "similar flexibility) or `kdeplot` (an axes-level function for kernel density plots).\n",
      "\n",
      "For a guide to updating your code to use the new functions, please see\n",
      "https://gist.github.com/mwaskom/de44147ed2974457ad6372750bbe5751\n",
      "\n",
      "  sns.distplot(data[data[\"ShippingTime\"] == 3][\"CustomerRating\"],hist=False, label=\"ShippingTime 3 days\")\n",
      "/var/folders/9z/nlzby8r50nz49vxsbtll4krc0000gn/T/ipykernel_14065/3612700659.py:5: UserWarning: \n",
      "\n",
      "`distplot` is a deprecated function and will be removed in seaborn v0.14.0.\n",
      "\n",
      "Please adapt your code to use either `displot` (a figure-level function with\n",
      "similar flexibility) or `kdeplot` (an axes-level function for kernel density plots).\n",
      "\n",
      "For a guide to updating your code to use the new functions, please see\n",
      "https://gist.github.com/mwaskom/de44147ed2974457ad6372750bbe5751\n",
      "\n",
      "  sns.distplot(data[data[\"ShippingTime\"] == 4][\"CustomerRating\"],hist=False, label=\"ShippingTime 4 days\")\n"
     ]
    },
    {
     "data": {
      "image/png": "[encoded data removed]",
      "text/plain": [
       "<Figure size 640x480 with 1 Axes>"
      ]
     },
     "metadata": {},
     "output_type": "display_data"
    }
   ],
   "source": [
    "# Using a distplot to check the compare between \"ShippingTime\" and \"CustomerRating\"\n",
    "\n",
    "sns.distplot(data[data[\"ShippingTime\"] == 2][\"CustomerRating\"],hist=False, label=\"ShippingTime 2 days\")\n",
    "sns.distplot(data[data[\"ShippingTime\"] == 3][\"CustomerRating\"],hist=False, label=\"ShippingTime 3 days\")\n",
    "sns.distplot(data[data[\"ShippingTime\"] == 4][\"CustomerRating\"],hist=False, label=\"ShippingTime 4 days\")\n",
    "# Adding legend\n",
    "plt.legend()\n",
    "xlabel='CustomerRating', \n",
    "ylabel='Density'\n",
    "# Display the plot\n",
    "plt.show()"
   ]
  },
  {
   "cell_type": "markdown",
   "metadata": {},
   "source": [
    "Note: This variation helps in exploring how the distribution of numerical values varies among different groups or classes defined by a categorical variable."
   ]
  },
  {
   "cell_type": "markdown",
   "metadata": {},
   "source": [
    "### III. Visualizing (Categorical - Categorical) Columns"
   ]
  },
  {
   "cell_type": "markdown",
   "metadata": {},
   "source": [
    "### 1. HeatMap"
   ]
  },
  {
   "cell_type": "markdown",
   "metadata": {},
   "source": [
    "Purpose: Display correlation coefficients between numerical variables."
   ]
  },
  {
   "cell_type": "markdown",
   "metadata": {},
   "source": [
    "Usage: sns.heatmap(data.corr(), annot=True)"
   ]
  },
  {
   "cell_type": "code",
   "execution_count": 66,
   "metadata": {},
   "outputs": [
    {
     "data": {
      "text/html": [
       "<div>\n",
       "<style scoped>\n",
       "    .dataframe tbody tr th:only-of-type {\n",
       "        vertical-align: middle;\n",
       "    }\n",
       "\n",
       "    .dataframe tbody tr th {\n",
       "        vertical-align: top;\n",
       "    }\n",
       "\n",
       "    .dataframe thead th {\n",
       "        text-align: right;\n",
       "    }\n",
       "</style>\n",
       "<table border=\"1\" class=\"dataframe\">\n",
       "  <thead>\n",
       "    <tr style=\"text-align: right;\">\n",
       "      <th>smoker</th>\n",
       "      <th>Yes</th>\n",
       "      <th>No</th>\n",
       "    </tr>\n",
       "    <tr>\n",
       "      <th>sex</th>\n",
       "      <th></th>\n",
       "      <th></th>\n",
       "    </tr>\n",
       "  </thead>\n",
       "  <tbody>\n",
       "    <tr>\n",
       "      <th>Male</th>\n",
       "      <td>60</td>\n",
       "      <td>97</td>\n",
       "    </tr>\n",
       "    <tr>\n",
       "      <th>Female</th>\n",
       "      <td>33</td>\n",
       "      <td>54</td>\n",
       "    </tr>\n",
       "  </tbody>\n",
       "</table>\n",
       "</div>"
      ],
      "text/plain": [
       "smoker  Yes  No\n",
       "sex            \n",
       "Male     60  97\n",
       "Female   33  54"
      ]
     },
     "execution_count": 66,
     "metadata": {},
     "output_type": "execute_result"
    }
   ],
   "source": [
    "pd.crosstab(tips_data['sex'],tips_data['smoker'])\t"
   ]
  },
  {
   "cell_type": "code",
   "execution_count": 67,
   "metadata": {},
   "outputs": [
    {
     "data": {
      "text/plain": [
       "<Axes: xlabel='smoker', ylabel='sex'>"
      ]
     },
     "execution_count": 67,
     "metadata": {},
     "output_type": "execute_result"
    },
    {
     "data": {
      "image/png": "[encoded data removed]",
      "text/plain": [
       "<Figure size 640x480 with 2 Axes>"
      ]
     },
     "metadata": {},
     "output_type": "display_data"
    }
   ],
   "source": [
    "# Using a heat map to check the correlation between \"sex\" and \"smoker\"\n",
    "sns.heatmap(pd.crosstab(tips_data['sex'],tips_data['smoker']))"
   ]
  },
  {
   "cell_type": "markdown",
   "metadata": {},
   "source": [
    "Note: It that shows the magnitude of the phenomenon as colour in two dimensions. The values of correlation can vary from -1 to 1 where -1 means strong negative and +1 means strong positive correlation."
   ]
  },
  {
   "cell_type": "code",
   "execution_count": 68,
   "metadata": {},
   "outputs": [],
   "source": [
    "#(tips_data.groupby('sex').mean()['size']*100)"
   ]
  },
  {
   "cell_type": "markdown",
   "metadata": {},
   "source": [
    "### 2. ClusterMap"
   ]
  },
  {
   "cell_type": "markdown",
   "metadata": {},
   "source": [
    "Purpose: Visualize clusters in dataset (especially hierarchical clustering)."
   ]
  },
  {
   "cell_type": "markdown",
   "metadata": {},
   "source": [
    "Usage: sns.clusterplot(data)"
   ]
  },
  {
   "cell_type": "code",
   "execution_count": 69,
   "metadata": {},
   "outputs": [
    {
     "data": {
      "text/plain": [
       "<seaborn.matrix.ClusterGrid at 0x149aae2d0>"
      ]
     },
     "execution_count": 69,
     "metadata": {},
     "output_type": "execute_result"
    },
    {
     "data": {
      "image/png": "[encoded data removed]",
      "text/plain": [
       "<Figure size 1000x1000 with 4 Axes>"
      ]
     },
     "metadata": {},
     "output_type": "display_data"
    }
   ],
   "source": [
    "# Using a cluster map to check the correlation between \"CustomerAge\" and \"Category\"\n",
    "sns.clustermap(pd.crosstab(data['CustomerAge'],data['Category']))"
   ]
  },
  {
   "cell_type": "markdown",
   "metadata": {},
   "source": [
    "Note: Clusterplot is employed in clustering analysis, where data points are grouped based on their similarities. The plot assists in understanding the structure of clusters and relationships between data points."
   ]
  },
  {
   "cell_type": "markdown",
   "metadata": {},
   "source": [
    "### IV. Visualizing All the Numerical Columns - Only"
   ]
  },
  {
   "cell_type": "markdown",
   "metadata": {},
   "source": [
    "### 1. Pairplot"
   ]
  },
  {
   "cell_type": "markdown",
   "metadata": {},
   "source": [
    "Purpose: Visualize pairwise relationships in a dataset."
   ]
  },
  {
   "cell_type": "markdown",
   "metadata": {},
   "source": [
    "Usage: sns.pairplot(data)"
   ]
  },
  {
   "cell_type": "code",
   "execution_count": 70,
   "metadata": {},
   "outputs": [
    {
     "data": {
      "text/plain": [
       "<seaborn.axisgrid.PairGrid at 0x16c0900e0>"
      ]
     },
     "execution_count": 70,
     "metadata": {},
     "output_type": "execute_result"
    },
    {
     "data": {
      "image/png": "[encoded data removed]",
      "text/plain": [
       "<Figure size 750x750 with 12 Axes>"
      ]
     },
     "metadata": {},
     "output_type": "display_data"
    }
   ],
   "source": [
    "# Using pairplot to plot the pairwise relationship btw each numerical columns present in the dataframe\n",
    "sns.pairplot(tips_data)"
   ]
  },
  {
   "cell_type": "markdown",
   "metadata": {},
   "source": [
    "Note: The pairplot function creates a grid of Axes such that each variable in data will by shared in the y-axis across a single row and in the x-axis across a single column."
   ]
  },
  {
   "cell_type": "markdown",
   "metadata": {},
   "source": [
    "Key components of Exploratory Data Analysis include:\n",
    "\n",
    "- Data Summarization: Describing the main characteristics of the data, such as central tendency, variability, and distribution.\n",
    "\n",
    "- Data Visualization: Creating visual representations of the data to better understand its structure and identify patterns or trends.\n",
    "\n",
    "- Data Cleaning: Identifying and handling missing or inconsistent data to ensure the accuracy of the analysis.\n",
    "\n",
    "- Statistical Analysis: Using statistical methods to explore relationships between variables and test hypotheses.\n",
    "\n",
    "- Pattern Recognition: Identifying outliers, clusters, or any unusual patterns in the data.\n",
    "\n",
    "- Hypothesis Generation: Formulating initial hypotheses or questions about the data based on observed patterns."
   ]
  },
  {
   "cell_type": "markdown",
   "metadata": {},
   "source": [
    "Note: The dataset named as \"data\" utilized in this context is a synthetic toy dataset generated by ChatGPT solely for the purpose of visualization demonstration. Consequently, I refrain from providing comment on the insights derived from each graph."
   ]
  }
 ],
 "metadata": {
  "kernelspec": {
   "display_name": "testniel1",
   "language": "python",
   "name": "python3"
  },
  "language_info": {
   "codemirror_mode": {
    "name": "ipython",
    "version": 3
   },
   "file_extension": ".py",
   "mimetype": "text/x-python",
   "name": "python",
   "nbconvert_exporter": "python",
   "pygments_lexer": "ipython3",
   "version": "3.12.4"
  }
 },
 "nbformat": 4,
 "nbformat_minor": 2
}
